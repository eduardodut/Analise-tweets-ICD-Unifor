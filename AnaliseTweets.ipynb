{
  "nbformat": 4,
  "nbformat_minor": 0,
  "metadata": {
    "colab": {
      "name": "AnaliseTweets.ipynb",
      "provenance": [],
      "collapsed_sections": [],
      "include_colab_link": true
    },
    "kernelspec": {
      "name": "python3",
      "display_name": "Python 3"
    }
  },
  "cells": [
    {
      "cell_type": "markdown",
      "metadata": {
        "id": "view-in-github",
        "colab_type": "text"
      },
      "source": [
        "<a href=\"https://colab.research.google.com/github/eduardodut/Analise-tweets-ICD-Unifor/blob/master/AnaliseTweets.ipynb\" target=\"_parent\"><img src=\"https://colab.research.google.com/assets/colab-badge.svg\" alt=\"Open In Colab\"/></a>"
      ]
    },
    {
      "cell_type": "markdown",
      "metadata": {
        "id": "N6tR08DEtou4",
        "colab_type": "text"
      },
      "source": [
        "Leitura dos dados"
      ]
    },
    {
      "cell_type": "code",
      "metadata": {
        "id": "tmI2cJi8vKMA",
        "colab_type": "code",
        "outputId": "e3bd5bc3-54a5-401a-ecf4-84f86ef2f48a",
        "colab": {
          "base_uri": "https://localhost:8080/",
          "height": 119
        }
      },
      "source": [
        "def downloadJsonFiles():\n",
        "  # Fetch a single <1MB file using the raw GitHub URL.\n",
        "  !curl --remote-name \\\n",
        "      -H 'Accept: application/vnd.github.v3.raw' \\\n",
        "      --location https://raw.githubusercontent.com/eduardodut/Analise-tweets-ICD-Unifor/master/Dados/LulaOficial.json\n",
        "\n",
        "\n",
        "  !curl --remote-name \\\n",
        "      -H 'Accept: application/vnd.github.v3.raw' \\\n",
        "      --location https://raw.githubusercontent.com/eduardodut/Analise-tweets-ICD-Unifor/master/Dados/jairbolsonaro.json     \n",
        "\n",
        "downloadJsonFiles()"
      ],
      "execution_count": 5,
      "outputs": [
        {
          "output_type": "stream",
          "text": [
            "  % Total    % Received % Xferd  Average Speed   Time    Time     Time  Current\n",
            "                                 Dload  Upload   Total   Spent    Left  Speed\n",
            "100 47.6M  100 47.6M    0     0  54.9M      0 --:--:-- --:--:-- --:--:-- 54.8M\n",
            "  % Total    % Received % Xferd  Average Speed   Time    Time     Time  Current\n",
            "                                 Dload  Upload   Total   Spent    Left  Speed\n",
            "100 25.9M  100 25.9M    0     0  52.1M      0 --:--:-- --:--:-- --:--:-- 52.1M\n"
          ],
          "name": "stdout"
        }
      ]
    },
    {
      "cell_type": "code",
      "metadata": {
        "id": "dYZWCyUqKxjc",
        "colab_type": "code",
        "colab": {}
      },
      "source": [
        "import pandas as pd\n",
        "\n",
        "def carregarDados():\n",
        "  import json\n",
        "  import pandas as pd\n",
        "  dataset_lula = pd.DataFrame()\n",
        "  #tweetsLula = pd.read_json('/content/LulaOficial.json', lines = True)\n",
        "  with open('/content/LulaOficial.json') as lula_file:\n",
        "    dados = json.load(lula_file)\n",
        "    dataset_lula = pd.DataFrame(dados)\n",
        "\n",
        "\n",
        "  dataset_bolso = pd.DataFrame()\n",
        "  #tweetsLula = pd.read_json('/content/LulaOficial.json', lines = True)\n",
        "  with open('/content/jairbolsonaro.json') as bolso_file:\n",
        "    dados = json.load(bolso_file)\n",
        "    dataset_bolso = pd.DataFrame(dados)\n",
        "\n",
        "  return dataset_bolso, dataset_lula\n",
        "\n",
        "dataset_bolso, dataset_lula = carregarDados()\n"
      ],
      "execution_count": 0,
      "outputs": []
    },
    {
      "cell_type": "code",
      "metadata": {
        "id": "xuG7hVg1Il4b",
        "colab_type": "code",
        "colab": {
          "base_uri": "https://localhost:8080/",
          "height": 202
        },
        "outputId": "34db0da8-c557-4c1a-a038-2a05fc9c2bbf"
      },
      "source": [
        "dataset_bolso.head(1)"
      ],
      "execution_count": 41,
      "outputs": [
        {
          "output_type": "execute_result",
          "data": {
            "text/html": [
              "<div>\n",
              "<style scoped>\n",
              "    .dataframe tbody tr th:only-of-type {\n",
              "        vertical-align: middle;\n",
              "    }\n",
              "\n",
              "    .dataframe tbody tr th {\n",
              "        vertical-align: top;\n",
              "    }\n",
              "\n",
              "    .dataframe thead th {\n",
              "        text-align: right;\n",
              "    }\n",
              "</style>\n",
              "<table border=\"1\" class=\"dataframe\">\n",
              "  <thead>\n",
              "    <tr style=\"text-align: right;\">\n",
              "      <th></th>\n",
              "      <th>created_at</th>\n",
              "      <th>id</th>\n",
              "      <th>id_str</th>\n",
              "      <th>full_text</th>\n",
              "      <th>truncated</th>\n",
              "      <th>display_text_range</th>\n",
              "      <th>entities</th>\n",
              "      <th>source</th>\n",
              "      <th>in_reply_to_status_id</th>\n",
              "      <th>in_reply_to_status_id_str</th>\n",
              "      <th>in_reply_to_user_id</th>\n",
              "      <th>in_reply_to_user_id_str</th>\n",
              "      <th>in_reply_to_screen_name</th>\n",
              "      <th>user</th>\n",
              "      <th>geo</th>\n",
              "      <th>coordinates</th>\n",
              "      <th>place</th>\n",
              "      <th>contributors</th>\n",
              "      <th>is_quote_status</th>\n",
              "      <th>retweet_count</th>\n",
              "      <th>favorite_count</th>\n",
              "      <th>favorited</th>\n",
              "      <th>retweeted</th>\n",
              "      <th>lang</th>\n",
              "      <th>extended_entities</th>\n",
              "      <th>possibly_sensitive</th>\n",
              "      <th>quoted_status_id</th>\n",
              "      <th>quoted_status_id_str</th>\n",
              "      <th>quoted_status_permalink</th>\n",
              "      <th>quoted_status</th>\n",
              "    </tr>\n",
              "  </thead>\n",
              "  <tbody>\n",
              "    <tr>\n",
              "      <th>0</th>\n",
              "      <td>2010-04-01 02:59:50</td>\n",
              "      <td>11402700435</td>\n",
              "      <td>11402700435</td>\n",
              "      <td>EM \"DITADURA\" SEM PAREDÃO, ATÉ CHICO ALENCAR É...</td>\n",
              "      <td>False</td>\n",
              "      <td>[0, 137]</td>\n",
              "      <td>{'hashtags': [], 'symbols': [], 'user_mentions...</td>\n",
              "      <td>&lt;a href=\"https://about.twitter.com/products/tw...</td>\n",
              "      <td>NaN</td>\n",
              "      <td>None</td>\n",
              "      <td>NaN</td>\n",
              "      <td>None</td>\n",
              "      <td>None</td>\n",
              "      <td>{'id': 128372940, 'id_str': '128372940', 'name...</td>\n",
              "      <td>None</td>\n",
              "      <td>None</td>\n",
              "      <td>None</td>\n",
              "      <td>None</td>\n",
              "      <td>False</td>\n",
              "      <td>30</td>\n",
              "      <td>15</td>\n",
              "      <td>False</td>\n",
              "      <td>False</td>\n",
              "      <td>pt</td>\n",
              "      <td>NaN</td>\n",
              "      <td>NaN</td>\n",
              "      <td>NaN</td>\n",
              "      <td>NaN</td>\n",
              "      <td>NaN</td>\n",
              "      <td>NaN</td>\n",
              "    </tr>\n",
              "  </tbody>\n",
              "</table>\n",
              "</div>"
            ],
            "text/plain": [
              "           created_at           id  ... quoted_status_permalink quoted_status\n",
              "0 2010-04-01 02:59:50  11402700435  ...                     NaN           NaN\n",
              "\n",
              "[1 rows x 30 columns]"
            ]
          },
          "metadata": {
            "tags": []
          },
          "execution_count": 41
        }
      ]
    },
    {
      "cell_type": "code",
      "metadata": {
        "id": "TiiNf-fPFLAj",
        "colab_type": "code",
        "colab": {}
      },
      "source": [
        "import pickle\n",
        "def cleaning_data(dataset):\n",
        "\n",
        "  #realiza cópia do dataset\n",
        "  dataset_temp = dataset.copy()\n",
        "  \n",
        "  #conversão da coluna 'created_at' para formato de data\n",
        "  dataset_temp['created_at'] = dataset_temp['created_at'].astype('datetime64[ns]')\n",
        "\n",
        "  #criação da coluna 'caracter_count' a partir da coluna 'display_text_range', que indica o tamanho do tweet\n",
        "  dataset_temp['character_count'] = [(dataset_temp['display_text_range'][i][1]-dataset_temp['display_text_range'][i][0] + 1)for i in range(0,dataset_temp.shape[0])]\n",
        "\n",
        "  #função que extrai dados do dicionário da coluna 'user' e transforma em uma coluna do dataset\n",
        "  def extracao_dados_user(coluna):\n",
        "    if coluna not in dataset_temp.columns:\n",
        "      dataset_temp[coluna] = [pd.DataFrame(dataset_temp['user']).loc[i][0].get(coluna) for i in range(0,dataset_temp.shape[0])]\n",
        "\n",
        "  #Extração de dados de seguidores a cada tweet emitido\n",
        "  extracao_dados_user('followers_count')\n",
        "\n",
        "  #Número de tweets favoritados pelo usuário no momento da emissão do tweet\n",
        "  extracao_dados_user('favourites_count')\n",
        "\n",
        "  #Número de usuários que são seguidos pelo usuário no momento da emissão do tweet\n",
        "  extracao_dados_user('friends_count')\n",
        "\n",
        "  def extracao_entities():\n",
        "         \n",
        "    coluna_hashtags = []\n",
        "    coluna_user_mentions = []\n",
        "\n",
        "    for i in range(0,dataset_temp.shape[0]):\n",
        "      list_hashtags = []\n",
        "      list_user_mention = []\n",
        "      if dataset_temp.loc[i]['entities'].get(\"hashtags\") != None:\n",
        "        for j in range(0,len(dataset_temp.loc[i]['entities'].get(\"hashtags\"))):\n",
        "          list_hashtags.append(dataset_temp.loc[i]['entities'].get(\"hashtags\")[j].get('text'))\n",
        "      coluna_hashtags.append(list_hashtags)\n",
        "\n",
        "      if dataset_temp.loc[i]['entities'].get(\"use_mentions\") != None:\n",
        "        for j in range(0,len(dataset_temp.loc[i]['entities'].get(\"user_mentions\"))):\n",
        "          list_user_mention.append(dataset_temp.loc[i]['entities'].get(\"user_mentions\")[j].get('name'))\n",
        "      coluna_user_mentions.append(list_user_mention)\n",
        "\n",
        "    dataset_temp['hashtags'] = coluna_hashtags\n",
        "    dataset_temp['user_mention'] = coluna_user_mentions\n",
        "\n",
        "  extracao_entities()\n",
        "  colunas_para_remocao = ['id_str', 'truncated', 'display_text_range', 'entities', 'lang',\n",
        "                                   'source', 'in_reply_to_status_id','in_reply_to_status_id_str',\n",
        "                                   'in_reply_to_user_id','in_reply_to_user_id_str', 'in_reply_to_screen_name',\n",
        "                                   'user','geo','coordinates', 'place', 'contributors', 'is_quote_status',\n",
        "                                   'possibly_sensitive', 'quoted_status_id','quoted_status_id_str',\n",
        "                                  'quoted_status_permalink', 'extended_entities', 'quoted_status']\n",
        "  dataset_temp = dataset_temp.drop(colunas_para_remocao, axis = 1)\n",
        "  \n",
        "  \n",
        "  return dataset_temp\n",
        "\n",
        " \n"
      ],
      "execution_count": 0,
      "outputs": []
    },
    {
      "cell_type": "code",
      "metadata": {
        "id": "M4goIxPgtp4D",
        "colab_type": "code",
        "colab": {}
      },
      "source": [
        "import pickle\n",
        "\n",
        "lula_data = cleaning_data(dataset_lula)\n",
        "\n",
        "bolso_data = cleaning_data(dataset_bolso)\n",
        "\n",
        "\n",
        "with open(\"dados_lula.pickle\", \"wb\") as file:\n",
        "   pickle.dump(lula_data, file)\n",
        "\n",
        "with open(\"dados_bolso.pickle\", \"wb\") as file:\n",
        "   pickle.dump(bolso_data, file)"
      ],
      "execution_count": 0,
      "outputs": []
    },
    {
      "cell_type": "code",
      "metadata": {
        "id": "iRN27g9bVPR2",
        "colab_type": "code",
        "colab": {
          "base_uri": "https://localhost:8080/",
          "height": 255
        },
        "outputId": "fa5daeb8-f824-46bd-c32c-7cd08ed228e2"
      },
      "source": [
        "print(dataset_bolso.columns)\n",
        "print(bolso_data.columns)"
      ],
      "execution_count": 198,
      "outputs": [
        {
          "output_type": "stream",
          "text": [
            "Index(['created_at', 'id', 'id_str', 'full_text', 'truncated',\n",
            "       'display_text_range', 'entities', 'source', 'in_reply_to_status_id',\n",
            "       'in_reply_to_status_id_str', 'in_reply_to_user_id',\n",
            "       'in_reply_to_user_id_str', 'in_reply_to_screen_name', 'user', 'geo',\n",
            "       'coordinates', 'place', 'contributors', 'is_quote_status',\n",
            "       'retweet_count', 'favorite_count', 'favorited', 'retweeted', 'lang',\n",
            "       'extended_entities', 'possibly_sensitive', 'quoted_status_id',\n",
            "       'quoted_status_id_str', 'quoted_status_permalink', 'quoted_status'],\n",
            "      dtype='object')\n",
            "Index(['created_at', 'id', 'full_text', 'retweet_count', 'favorite_count',\n",
            "       'favorited', 'retweeted', 'lang', 'extended_entities',\n",
            "       'character_count', 'followers_count', 'favourites_count',\n",
            "       'friends_count', 'hashtags', 'user_mention'],\n",
            "      dtype='object')\n"
          ],
          "name": "stdout"
        }
      ]
    },
    {
      "cell_type": "code",
      "metadata": {
        "id": "gVaGom-Yr4Ln",
        "colab_type": "code",
        "colab": {
          "base_uri": "https://localhost:8080/",
          "height": 221
        },
        "outputId": "5351c824-f10e-4e86-d78c-3e994d61829e"
      },
      "source": [
        ""
      ],
      "execution_count": 201,
      "outputs": [
        {
          "output_type": "execute_result",
          "data": {
            "text/plain": [
              "0       NaN\n",
              "1       NaN\n",
              "2       NaN\n",
              "3       NaN\n",
              "4       NaN\n",
              "       ... \n",
              "6789    NaN\n",
              "6790    NaN\n",
              "6791    NaN\n",
              "6792    NaN\n",
              "6793    NaN\n",
              "Name: quoted_status, Length: 6794, dtype: object"
            ]
          },
          "metadata": {
            "tags": []
          },
          "execution_count": 201
        }
      ]
    },
    {
      "cell_type": "code",
      "metadata": {
        "id": "arvLvNMHpxvN",
        "colab_type": "code",
        "colab": {
          "base_uri": "https://localhost:8080/",
          "height": 68
        },
        "outputId": "7fa8840c-1d25-4ded-aadd-2492dec4b57c"
      },
      "source": [
        "lula_data['full_text'].loc[lula_data['possibly_sensitive'] == True]"
      ],
      "execution_count": 192,
      "outputs": [
        {
          "output_type": "execute_result",
          "data": {
            "text/plain": [
              "5183    Defesa identifica táticas de lawfare em denúnc...\n",
              "6602    Lava Jato usa o sistema judiciário para fazer ...\n",
              "Name: full_text, dtype: object"
            ]
          },
          "metadata": {
            "tags": []
          },
          "execution_count": 192
        }
      ]
    },
    {
      "cell_type": "code",
      "metadata": {
        "id": "dKtCnNLUQxP1",
        "colab_type": "code",
        "colab": {
          "base_uri": "https://localhost:8080/",
          "height": 833
        },
        "outputId": "8d6eb71c-2930-40ff-806f-839b20e5dc43"
      },
      "source": [
        "#dataset_bolso['user'] = pd.DataFrame(dataset_bolso['user'])\n",
        "dataset_bolso['user'].loc[0]\n",
        "# 'favourites_count'\n",
        "# 'followers_count'\n",
        "# 'friends_count'"
      ],
      "execution_count": 83,
      "outputs": [
        {
          "output_type": "execute_result",
          "data": {
            "text/plain": [
              "{'can_media_tag': True,\n",
              " 'contributors_enabled': False,\n",
              " 'created_at': 'Wed Mar 31 23:13:44 +0000 2010',\n",
              " 'default_profile': False,\n",
              " 'default_profile_image': False,\n",
              " 'description': 'Capitão do Exército Brasileiro, eleito 38° Presidente da República Federativa do Brasil. 🇧🇷',\n",
              " 'entities': {'description': {'urls': []},\n",
              "  'url': {'urls': [{'display_url': 'bolsonaro.com.br',\n",
              "     'expanded_url': 'http://www.bolsonaro.com.br',\n",
              "     'indices': [0, 23],\n",
              "     'url': 'https://t.co/bqpNS6l0al'}]}},\n",
              " 'favourites_count': 2393,\n",
              " 'follow_request_sent': False,\n",
              " 'followed_by': False,\n",
              " 'followers_count': 5759089,\n",
              " 'following': False,\n",
              " 'friends_count': 394,\n",
              " 'geo_enabled': False,\n",
              " 'has_extended_profile': True,\n",
              " 'id': 128372940,\n",
              " 'id_str': '128372940',\n",
              " 'is_translation_enabled': False,\n",
              " 'is_translator': False,\n",
              " 'lang': None,\n",
              " 'listed_count': 5504,\n",
              " 'location': 'Brasília, Brasil',\n",
              " 'name': 'Jair M. Bolsonaro',\n",
              " 'notifications': False,\n",
              " 'profile_background_color': '175C17',\n",
              " 'profile_background_image_url': 'http://abs.twimg.com/images/themes/theme1/bg.png',\n",
              " 'profile_background_image_url_https': 'https://abs.twimg.com/images/themes/theme1/bg.png',\n",
              " 'profile_background_tile': False,\n",
              " 'profile_banner_url': 'https://pbs.twimg.com/profile_banners/128372940/1540929521',\n",
              " 'profile_image_url': 'http://pbs.twimg.com/profile_images/1057631480459886595/9VPdGJJz_normal.jpg',\n",
              " 'profile_image_url_https': 'https://pbs.twimg.com/profile_images/1057631480459886595/9VPdGJJz_normal.jpg',\n",
              " 'profile_link_color': '0084B4',\n",
              " 'profile_sidebar_border_color': 'FFFFFF',\n",
              " 'profile_sidebar_fill_color': 'A4E37F',\n",
              " 'profile_text_color': '1414FF',\n",
              " 'profile_use_background_image': True,\n",
              " 'protected': False,\n",
              " 'screen_name': 'jairbolsonaro',\n",
              " 'statuses_count': 8316,\n",
              " 'time_zone': None,\n",
              " 'translator_type': 'none',\n",
              " 'url': 'https://t.co/bqpNS6l0al',\n",
              " 'utc_offset': None,\n",
              " 'verified': True}"
            ]
          },
          "metadata": {
            "tags": []
          },
          "execution_count": 83
        }
      ]
    },
    {
      "cell_type": "code",
      "metadata": {
        "id": "ljR2sef9ym8T",
        "colab_type": "code",
        "colab": {
          "base_uri": "https://localhost:8080/",
          "height": 34
        },
        "outputId": "572ff3a1-f3e0-4194-ed9c-ec4a1178d8cd"
      },
      "source": [
        "print(.isnull().sum())"
      ],
      "execution_count": 17,
      "outputs": [
        {
          "output_type": "stream",
          "text": [
            "0\n"
          ],
          "name": "stdout"
        }
      ]
    },
    {
      "cell_type": "code",
      "metadata": {
        "id": "ozgPAYfBMtIR",
        "colab_type": "code",
        "colab": {}
      },
      "source": [
        "list_keep = ['created_at', 'full_text', 'truncated',\n",
        "       'display_text_range', 'entities', 'source', 'in_reply_to_status_id',\n",
        "       'in_reply_to_status_id_str', 'in_reply_to_user_id',\n",
        "       'in_reply_to_user_id_str', 'in_reply_to_screen_name', 'user', 'geo',\n",
        "       'coordinates', 'place', 'contributors', 'is_quote_status',\n",
        "       'retweet_count', 'favorite_count', 'favorited', 'retweeted', 'lang',\n",
        "       'extended_entities', 'possibly_sensitive', 'quoted_status_id',\n",
        "       'quoted_status_id_str', 'quoted_status_permalink', 'quoted_status']"
      ],
      "execution_count": 0,
      "outputs": []
    },
    {
      "cell_type": "code",
      "metadata": {
        "id": "ghQ3045P8f9k",
        "colab_type": "code",
        "outputId": "ad1a8489-81ca-4cdf-dc0d-5c9223471e38",
        "colab": {
          "base_uri": "https://localhost:8080/",
          "height": 88
        }
      },
      "source": [
        "print(dados.head().loc[0,1].keys())\n",
        "print(type(dados.transpose()))\n",
        "print(dados.transpose()[0][0].keys())"
      ],
      "execution_count": 0,
      "outputs": [
        {
          "output_type": "stream",
          "text": [
            "dict_keys(['created_at', 'id', 'id_str', 'full_text', 'truncated', 'display_text_range', 'entities', 'source', 'in_reply_to_status_id', 'in_reply_to_status_id_str', 'in_reply_to_user_id', 'in_reply_to_user_id_str', 'in_reply_to_screen_name', 'user', 'geo', 'coordinates', 'place', 'contributors', 'is_quote_status', 'retweet_count', 'favorite_count', 'favorited', 'retweeted', 'lang'])\n",
            "<class 'pandas.core.frame.DataFrame'>\n",
            "dict_keys(['created_at', 'id', 'id_str', 'full_text', 'truncated', 'display_text_range', 'entities', 'source', 'in_reply_to_status_id', 'in_reply_to_status_id_str', 'in_reply_to_user_id', 'in_reply_to_user_id_str', 'in_reply_to_screen_name', 'user', 'geo', 'coordinates', 'place', 'contributors', 'is_quote_status', 'retweet_count', 'favorite_count', 'favorited', 'retweeted', 'lang'])\n"
          ],
          "name": "stdout"
        }
      ]
    },
    {
      "cell_type": "code",
      "metadata": {
        "id": "a27b4cnz8mWg",
        "colab_type": "code",
        "outputId": "8bb22b41-636e-4bd1-a466-f4f90b1811a3",
        "colab": {
          "base_uri": "https://localhost:8080/",
          "height": 54
        }
      },
      "source": [
        " print(dados.transpose()[0][0])"
      ],
      "execution_count": 0,
      "outputs": [
        {
          "output_type": "stream",
          "text": [
            "{'created_at': 'Fri Aug 17 16:23:04 +0000 2018', 'id': 1030490201460801541, 'id_str': '1030490201460801541', 'full_text': '\"O presidente Lula vai dar um passeio nessa eleição. Ganha no primeiro turno\" - @Haddad_Fernando, vice na chapa, em coletiva de imprensa sobre a decisão da @ONUBrasil que assegura o direito de Lula ser candidato.', 'truncated': False, 'display_text_range': [0, 212], 'entities': {'hashtags': [], 'symbols': [], 'user_mentions': [{'screen_name': 'Haddad_Fernando', 'name': 'Fernando Haddad', 'id': 354095556, 'id_str': '354095556', 'indices': [80, 96]}, {'screen_name': 'ONUBrasil', 'name': 'ONU Brasil', 'id': 57763444, 'id_str': '57763444', 'indices': [156, 166]}], 'urls': []}, 'source': '<a href=\"http://twitter.com\" rel=\"nofollow\">Twitter Web Client</a>', 'in_reply_to_status_id': None, 'in_reply_to_status_id_str': None, 'in_reply_to_user_id': None, 'in_reply_to_user_id_str': None, 'in_reply_to_screen_name': None, 'user': {'id': 2670726740, 'id_str': '2670726740', 'name': 'Lula', 'screen_name': 'LulaOficial', 'location': '', 'description': 'Ex-presidente da República do Brasil (2003-2010).', 'url': 'https://t.co/VtUIIAlkIw', 'entities': {'url': {'urls': [{'url': 'https://t.co/VtUIIAlkIw', 'expanded_url': 'http://www.lula.com.br', 'display_url': 'lula.com.br', 'indices': [0, 23]}]}, 'description': {'urls': []}}, 'protected': False, 'followers_count': 1390201, 'friends_count': 763, 'listed_count': 2172, 'created_at': 'Tue Jul 22 21:36:50 +0000 2014', 'favourites_count': 3301, 'utc_offset': None, 'time_zone': None, 'geo_enabled': True, 'verified': True, 'statuses_count': 19874, 'lang': None, 'contributors_enabled': False, 'is_translator': False, 'is_translation_enabled': False, 'profile_background_color': 'C0DEED', 'profile_background_image_url': 'http://abs.twimg.com/images/themes/theme1/bg.png', 'profile_background_image_url_https': 'https://abs.twimg.com/images/themes/theme1/bg.png', 'profile_background_tile': False, 'profile_image_url': 'http://pbs.twimg.com/profile_images/1056865819530063872/ZnHn4dgf_normal.jpg', 'profile_image_url_https': 'https://pbs.twimg.com/profile_images/1056865819530063872/ZnHn4dgf_normal.jpg', 'profile_banner_url': 'https://pbs.twimg.com/profile_banners/2670726740/1573484570', 'profile_link_color': '1DA1F2', 'profile_sidebar_border_color': 'C0DEED', 'profile_sidebar_fill_color': 'DDEEF6', 'profile_text_color': '333333', 'profile_use_background_image': True, 'has_extended_profile': False, 'default_profile': True, 'default_profile_image': False, 'can_media_tag': True, 'followed_by': False, 'following': False, 'follow_request_sent': False, 'notifications': False, 'translator_type': 'none'}, 'geo': None, 'coordinates': None, 'place': None, 'contributors': None, 'is_quote_status': False, 'retweet_count': 79, 'favorite_count': 347, 'favorited': False, 'retweeted': False, 'lang': 'pt'}\n"
          ],
          "name": "stdout"
        }
      ]
    },
    {
      "cell_type": "code",
      "metadata": {
        "id": "r6Rr9kPL15sh",
        "colab_type": "code",
        "outputId": "79e727ae-aa1a-4e48-91fb-d51588c32132",
        "colab": {
          "base_uri": "https://localhost:8080/",
          "height": 122
        }
      },
      "source": [
        "from google.colab import drive\n",
        "drive.mount('/content/drive')"
      ],
      "execution_count": 0,
      "outputs": [
        {
          "output_type": "stream",
          "text": [
            "Go to this URL in a browser: https://accounts.google.com/o/oauth2/auth?client_id=947318989803-6bn6qk8qdgf4n4g3pfee6491hc0brc4i.apps.googleusercontent.com&redirect_uri=urn%3aietf%3awg%3aoauth%3a2.0%3aoob&response_type=code&scope=email%20https%3a%2f%2fwww.googleapis.com%2fauth%2fdocs.test%20https%3a%2f%2fwww.googleapis.com%2fauth%2fdrive%20https%3a%2f%2fwww.googleapis.com%2fauth%2fdrive.photos.readonly%20https%3a%2f%2fwww.googleapis.com%2fauth%2fpeopleapi.readonly\n",
            "\n",
            "Enter your authorization code:\n",
            "··········\n",
            "Mounted at /content/drive\n"
          ],
          "name": "stdout"
        }
      ]
    },
    {
      "cell_type": "code",
      "metadata": {
        "id": "E6XP-SDmv5Q8",
        "colab_type": "code",
        "outputId": "e3998be1-f3dd-454f-fad4-d1a47f58c6d0",
        "colab": {
          "base_uri": "https://localhost:8080/",
          "height": 119
        }
      },
      "source": [
        "downloadJsonFiles()"
      ],
      "execution_count": 0,
      "outputs": [
        {
          "output_type": "stream",
          "text": [
            "  % Total    % Received % Xferd  Average Speed   Time    Time     Time  Current\n",
            "                                 Dload  Upload   Total   Spent    Left  Speed\n",
            "100    14  100    14    0     0     36      0 --:--:-- --:--:-- --:--:--    35\n",
            "  % Total    % Received % Xferd  Average Speed   Time    Time     Time  Current\n",
            "                                 Dload  Upload   Total   Spent    Left  Speed\n",
            "100    14  100    14    0     0     43      0 --:--:-- --:--:-- --:--:--    43\n"
          ],
          "name": "stdout"
        }
      ]
    },
    {
      "cell_type": "code",
      "metadata": {
        "id": "ES8p7oqlMW-A",
        "colab_type": "code",
        "colab": {}
      },
      "source": [
        "# Import the necessary modules\n",
        "from nltk.tokenize import regexp_tokenize\n",
        "from nltk.tokenize import TweetTokenizer\n",
        "# Use the TweetTokenizer to tokenize all tweets into one list\n",
        "tknzr = TweetTokenizer()\n",
        "all_tokens = [tknzr.tokenize(t) for t in tweets]\n",
        "print(all_tokens)"
      ],
      "execution_count": 0,
      "outputs": []
    }
  ]
}